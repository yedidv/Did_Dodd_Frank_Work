{
 "metadata": {
  "language_info": {
   "codemirror_mode": {
    "name": "ipython",
    "version": 3
   },
   "file_extension": ".py",
   "mimetype": "text/x-python",
   "name": "python",
   "nbconvert_exporter": "python",
   "pygments_lexer": "ipython3",
   "version": "3.8.3-final"
  },
  "orig_nbformat": 2,
  "kernelspec": {
   "name": "python3",
   "display_name": "Python 3.8.3 64-bit ('base': conda)",
   "metadata": {
    "interpreter": {
     "hash": "212983865df447a587cd02ed42187f39760d467fb0227a7a0f46f8f8baf099d2"
    }
   }
  }
 },
 "nbformat": 4,
 "nbformat_minor": 2,
 "cells": [
  {
   "cell_type": "code",
   "execution_count": 5,
   "metadata": {},
   "outputs": [],
   "source": [
    "import pandas as pd \n",
    "import scipy \n",
    "import numpy "
   ]
  },
  {
   "cell_type": "code",
   "execution_count": 4,
   "metadata": {},
   "outputs": [
    {
     "output_type": "execute_result",
     "data": {
      "text/plain": [
       "     Unnamed: 0   rssdid  year  FedDistrict           ShortName  Assets2170r  \\\n",
       "0             0  1025309  2006           12     bank of hi corp    11.393465   \n",
       "1             1  1025309  2007           12     bank of hi corp    10.849381   \n",
       "2             2  1025309  2008           12     bank of hi corp    10.975214   \n",
       "3             3  1025309  2009           12     bank of hi corp    12.473489   \n",
       "4             4  1025309  2010           12     bank of hi corp    13.063506   \n",
       "..          ...      ...   ...          ...                 ...          ...   \n",
       "682         682  3853449  2012            7  principal fncl grp   152.608700   \n",
       "683         683  4028712  2012            6          bankunited    11.663796   \n",
       "684         684  4028712  2013            6          bankunited    14.011647   \n",
       "685         685  4028712  2014            6          bankunited    17.680928   \n",
       "686         686  4028712  2015            6          bankunited    21.892355   \n",
       "\n",
       "     permco ticker  dPublic  bank_meanAssets  \n",
       "0       589    BOH        1        12.613256  \n",
       "1       589    BOH        1        12.613256  \n",
       "2       589    BOH        1        12.613256  \n",
       "3       589    BOH        1        12.613256  \n",
       "4       589    BOH        1        12.613256  \n",
       "..      ...    ...      ...              ...  \n",
       "682   42285    PFG        1       152.608700  \n",
       "683   53647    BKU        1        16.312181  \n",
       "684   53647    BKU        1        16.312181  \n",
       "685   53647    BKU        1        16.312181  \n",
       "686   53647    BKU        1        16.312181  \n",
       "\n",
       "[687 rows x 10 columns]"
      ],
      "text/html": "<div>\n<style scoped>\n    .dataframe tbody tr th:only-of-type {\n        vertical-align: middle;\n    }\n\n    .dataframe tbody tr th {\n        vertical-align: top;\n    }\n\n    .dataframe thead th {\n        text-align: right;\n    }\n</style>\n<table border=\"1\" class=\"dataframe\">\n  <thead>\n    <tr style=\"text-align: right;\">\n      <th></th>\n      <th>Unnamed: 0</th>\n      <th>rssdid</th>\n      <th>year</th>\n      <th>FedDistrict</th>\n      <th>ShortName</th>\n      <th>Assets2170r</th>\n      <th>permco</th>\n      <th>ticker</th>\n      <th>dPublic</th>\n      <th>bank_meanAssets</th>\n    </tr>\n  </thead>\n  <tbody>\n    <tr>\n      <th>0</th>\n      <td>0</td>\n      <td>1025309</td>\n      <td>2006</td>\n      <td>12</td>\n      <td>bank of hi corp</td>\n      <td>11.393465</td>\n      <td>589</td>\n      <td>BOH</td>\n      <td>1</td>\n      <td>12.613256</td>\n    </tr>\n    <tr>\n      <th>1</th>\n      <td>1</td>\n      <td>1025309</td>\n      <td>2007</td>\n      <td>12</td>\n      <td>bank of hi corp</td>\n      <td>10.849381</td>\n      <td>589</td>\n      <td>BOH</td>\n      <td>1</td>\n      <td>12.613256</td>\n    </tr>\n    <tr>\n      <th>2</th>\n      <td>2</td>\n      <td>1025309</td>\n      <td>2008</td>\n      <td>12</td>\n      <td>bank of hi corp</td>\n      <td>10.975214</td>\n      <td>589</td>\n      <td>BOH</td>\n      <td>1</td>\n      <td>12.613256</td>\n    </tr>\n    <tr>\n      <th>3</th>\n      <td>3</td>\n      <td>1025309</td>\n      <td>2009</td>\n      <td>12</td>\n      <td>bank of hi corp</td>\n      <td>12.473489</td>\n      <td>589</td>\n      <td>BOH</td>\n      <td>1</td>\n      <td>12.613256</td>\n    </tr>\n    <tr>\n      <th>4</th>\n      <td>4</td>\n      <td>1025309</td>\n      <td>2010</td>\n      <td>12</td>\n      <td>bank of hi corp</td>\n      <td>13.063506</td>\n      <td>589</td>\n      <td>BOH</td>\n      <td>1</td>\n      <td>12.613256</td>\n    </tr>\n    <tr>\n      <th>...</th>\n      <td>...</td>\n      <td>...</td>\n      <td>...</td>\n      <td>...</td>\n      <td>...</td>\n      <td>...</td>\n      <td>...</td>\n      <td>...</td>\n      <td>...</td>\n      <td>...</td>\n    </tr>\n    <tr>\n      <th>682</th>\n      <td>682</td>\n      <td>3853449</td>\n      <td>2012</td>\n      <td>7</td>\n      <td>principal fncl grp</td>\n      <td>152.608700</td>\n      <td>42285</td>\n      <td>PFG</td>\n      <td>1</td>\n      <td>152.608700</td>\n    </tr>\n    <tr>\n      <th>683</th>\n      <td>683</td>\n      <td>4028712</td>\n      <td>2012</td>\n      <td>6</td>\n      <td>bankunited</td>\n      <td>11.663796</td>\n      <td>53647</td>\n      <td>BKU</td>\n      <td>1</td>\n      <td>16.312181</td>\n    </tr>\n    <tr>\n      <th>684</th>\n      <td>684</td>\n      <td>4028712</td>\n      <td>2013</td>\n      <td>6</td>\n      <td>bankunited</td>\n      <td>14.011647</td>\n      <td>53647</td>\n      <td>BKU</td>\n      <td>1</td>\n      <td>16.312181</td>\n    </tr>\n    <tr>\n      <th>685</th>\n      <td>685</td>\n      <td>4028712</td>\n      <td>2014</td>\n      <td>6</td>\n      <td>bankunited</td>\n      <td>17.680928</td>\n      <td>53647</td>\n      <td>BKU</td>\n      <td>1</td>\n      <td>16.312181</td>\n    </tr>\n    <tr>\n      <th>686</th>\n      <td>686</td>\n      <td>4028712</td>\n      <td>2015</td>\n      <td>6</td>\n      <td>bankunited</td>\n      <td>21.892355</td>\n      <td>53647</td>\n      <td>BKU</td>\n      <td>1</td>\n      <td>16.312181</td>\n    </tr>\n  </tbody>\n</table>\n<p>687 rows × 10 columns</p>\n</div>"
     },
     "metadata": {},
     "execution_count": 4
    }
   ],
   "source": [
    "## Read in the data \n",
    "\n",
    "log_returns = pd.read_excel('Returns.xlsx', sheet_name = 'No_Nulls_Log_Returns')\n",
    "\n",
    "banks_data = pd.read_excel('Returns.xlsx', sheet_name= 'Banks_Data')"
   ]
  },
  {
   "cell_type": "code",
   "execution_count": null,
   "metadata": {},
   "outputs": [],
   "source": []
  }
 ]
}